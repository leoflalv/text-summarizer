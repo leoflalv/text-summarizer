{
 "cells": [
  {
   "cell_type": "code",
   "execution_count": 1,
   "metadata": {},
   "outputs": [],
   "source": [
    "import re\n",
    "import spacy"
   ]
  },
  {
   "cell_type": "code",
   "execution_count": 2,
   "metadata": {},
   "outputs": [],
   "source": [
    "nlp = spacy.load('es_core_news_sm')"
   ]
  },
  {
   "cell_type": "code",
   "execution_count": 3,
   "metadata": {},
   "outputs": [],
   "source": [
    "doc = 'Desde que accedió al trono, Felipe VI se ha manejado principalmente en escenarios excepcionales: bloqueo político, líderes que rechazan ser candidatos, repeticiones electorales, gobiernos en funciones, un presidente que eclipsa al Monarca. Y ahora una Pascua Militar que por decisión de Pedro Sánchez se celebra en mitad de su debate de investidura y ante el rebrote de la campaña contra su figura. Una muesca más en la ya de por sí compleja relación entre Moncloa y Zarzuela. Y por si fuera poco, Felipe VI inaugura el año otra vez como foco de los ataques de los socios de Pedro Sánchez. Si durante meses fueron los secesionistas catalanes los que lo pusieron en la diana, aprobando incluso una resolución en el Parlament que lo reprobaba y pedía la abolición de la Monarquía, este domingo mismo, en la primera sesión de investidura, EH Bildu, formación que presume de que su abstención es determinante para que el PSOE gobierne, consideró el discurso del Rey del 3 de octubre de 2017 -dos días después del referéndum ilegal celebrado en Cataluña- como una de las \"expresiones más evidentes\" de lo que califican de \"respuestas autoritarias de España\". La figura del jefe del Estado protagonizó la polémica parlamentaria. Tras esta acusación de liderar la \"respuesta autoritaria\" y de señalarlo como impulsor de la conformación de un \"bloque político y mediático capaz de profundizar en una contrarreforma autoritaria\" en España, el PP y Ciudadanos protestaron por considerar que eran \"descalificaciones\" o que incluso se ha llamado \"fascista\" al jefe del Estado, según la formación naranja. Pedro Sánchez, en su réplica, a Bildu eludió defender la figura del Monarca. Hace sólo unos días, el Gobierno también evitó respaldar el mensaje de Navidad de Felipe VI en el que recordó que el \"entendimiento\" político es imprescindible, pero siempre \"dentro del respeto a la Constitución\". Unas palabras pronunciadas en medio de la entonces opaca negociación entre el PSOE y ERC para la investidura. Las relaciones entre Zarzuela y Moncloa son complejas y difíciles, sobre todo en la última etapa. El Gobierno de Pedro Sánchez anunció su pacto con Unidas Podemos en pleno estreno del histórico viaje del Rey a Cuba; o se decidió que el Monarca no acudiese a la inauguración oficial de la Cumbre del Clima celebrada en Madrid, acaparando Sánchez todo el protagonismo. La celebración de la Pascua Militar constituye un solemne acto castrense con el que se inicia el año militar. En dicho acto se realiza un balance de las vicisitudes del año anterior y se marcan las líneas de acción que se desarrollarán en el siguiente. Además, se imponen condecoraciones militares a aquellos civiles y miembros de las Fuerzas Armadas que se han hecho acreedores de ellas durante el año vencido. Su origen se remonta al reinado de Carlos III, cuando, el 6 de enero de 1782, se recuperó la localidad menorquina de Mahón, que se hallaba en poder de los ingleses. Como expresión de júbilo, Carlos III ordenó a los virreyes, capitanes generales, gobernadores y comandantes militares que, en la fiesta de la Epifanía, reuniesen a las guarniciones y notificasen en su nombre a jefes y oficiales de los ejércitos su felicitación. Al acto asiste Pedro Sánchez, presidente del Gobierno, en este caso en funciones, y la ministra de Defensa, Margarita Robles. Tanto el Monarca como la ministra pronuncian sendos discursos. En ocasiones, esta celebración ha dado que hablar. Ocurrió en 2006, cuando el teniente general del Ejército de Tierra y general jefe de la Fuerza Terrestre, José Mena Aguado, afirmó durante su discurso en Sevilla con motivo de la Pascua Militar que si algún Estatuto de autonomía sobrepasaba los límites de la Constitución, el Ejército -como garante de la Carta Magna- tendría que intervenir. O cuando en 2018, ya con el desafío independentista de Cataluña en auge, la entonces ministra María Dolores de Cospedal, aunque sin hacer mención expresa a esta comunidad, sí reiteró el compromiso \"sin reservas de las Fuerzas Armadas con la unidad y el futuro de España\". Pero, sin duda, la Pascua Militar más comentada fue la de 2014, por la deteriorada imagen que ofreció Juan Carlos I, que presidió el acto con grandes esfuerzos y una voz fatigada que a duras penas le permitieron leer sus palabras. Una imagen que supuso uno de los puntos de inflexión en su decisión de abdicar.'"
   ]
  },
  {
   "cell_type": "code",
   "execution_count": 6,
   "metadata": {},
   "outputs": [],
   "source": [
    "\n",
    "weights = [words.count(x)/len(words) for x in words_set]\n",
    "weight_by_word = dict(zip(words_set, weights))"
   ]
  },
  {
   "cell_type": "code",
   "execution_count": 7,
   "metadata": {},
   "outputs": [],
   "source": [
    "def get_weight(sentence):\n",
    "    weight = 0\n",
    "    for word in sentence:\n",
    "        weight += weight_by_word[word.lower()]\n",
    "    print(weight)\n",
    "    return weight/len(sentence)"
   ]
  },
  {
   "cell_type": "code",
   "execution_count": 8,
   "metadata": {},
   "outputs": [],
   "source": [
    "def next_sentence(sentences):\n",
    "    best_sentence = None\n",
    "    best_score = 0\n",
    "    for sentence in sentences:\n",
    "        weight = get_weight(sentence.split())\n",
    "        if weight > best_score:\n",
    "            best_sentence = sentence\n",
    "            best_score = weight\n",
    "    if best_sentence is not None:\n",
    "        sentences.remove(best_sentence)\n",
    "    return best_sentence"
   ]
  },
  {
   "cell_type": "code",
   "execution_count": 9,
   "metadata": {},
   "outputs": [],
   "source": [
    "def update_words_weight(selected_sentence):\n",
    "    for word in selected_sentence.split():\n",
    "        weight_by_word[word.lower()] *= weight_by_word[word.lower()]"
   ]
  },
  {
   "cell_type": "code",
   "execution_count": 10,
   "metadata": {},
   "outputs": [],
   "source": [
    "def words_amount(sentence):\n",
    "    return len(sentence.split())"
   ]
  },
  {
   "cell_type": "code",
   "execution_count": 11,
   "metadata": {},
   "outputs": [
    {
     "name": "stdout",
     "output_type": "stream",
     "text": "0.041551246537396135\n0.10110803324099725\n0.03739612188365651\n0.0623268698060942\n0.09418282548476457\n0.012465373961218839\n0.13434903047091412\n0.04570637119113574\n0.044321329639889204\n0.04293628808864266\n0.0664819944598338\n0.09279778393351804\n0.03878116343490305\n0.04847645429362881\n0.06371191135734072\n0.02354570637119114\n0.15927977839335178\n0.06925207756232687\n0.013850415512465377\n0.00554016620498615\n0.08310249307479227\n0.08310249307479226\n0.09002770083102496\n0.0110803324099723\n0.041551246537396135\n0.045707548800330684\n0.004171060179126519\n0.034626627585760905\n0.0664825832644313\n0.012465373961218839\n0.05124830380991431\n0.04570637119113574\n0.044321329639889204\n0.015236045868309385\n0.09279778393351804\n0.03878116343490305\n0.020776212073295535\n0.03601166913700745\n0.02354570637119114\n0.07617905173235198\n0.0415518353419936\n0.013850415512465377\n0.00554016620498615\n0.05540225085445898\n0.05540225085445898\n0.06232745861069167\n0.0110803324099723\n0.03604177377398885\n0.026451250889786716\n0.004171060179126519\n0.01950818926806844\n0.06372017352233293\n0.00832751436836734\n0.05124830380991431\n0.030662748137291772\n0.015236045868309385\n0.03661152078329664\n0.03878116343490305\n0.020776212073295535\n0.02235308763441001\n0.02354570637119114\n0.03520330722455968\n0.026433397024301128\n0.008340942749058096\n0.00554016620498615\n0.05540225085445898\n0.04174366935186155\n0.04866887710809424\n0.0110803324099723\n0.03604177377398885\n0.01401657267016471\n0.004171060179126519\n0.013998716504661163\n0.06372017352233293\n0.00832751436836734\n0.05124830380991431\n0.030662748137291772\n0.015236045868309385\n0.03661152078329664\n0.009757266546480976\n0.01684361487100273\n0.02354570637119114\n0.03520330722455968\n0.02092392426089385\n0.008340942749058096\n0.0027777564628877925\n0.04296757263483697\n0.04174366935186155\n0.030724726125064942\n0.0110803324099723\n0.023628194995434355\n0.01401657267016471\n0.004171060179126519\n0.005722997318958166\n0.06372017352233293\n0.00832751436836734\n0.047110444217062813\n0.015236045868309385\n0.03209006677128393\n0.009757266546480976\n0.01665181766142213\n0.02354570637119114\n0.03462791559581788\n0.016786064668042354\n0.008340942749058096\n0.0027777564628877925\n0.040205162892738615\n0.04155187214228095\n0.030532928915484342\n0.0110803324099723\n0.023628194995434355\n0.009877535468811647\n0.0041704713748757375\n0.005722408514707384\n0.0568193153831323\n0.00832751436836734\n0.047108677804310474\n0.03209006677128393\n0.009756677742230194\n0.016651228857171352\n0.02354570637119114\n0.034626149183065544\n0.01678547586379157\n0.008340942749058096\n0.0027777564628877925\n0.04020457408848783\n0.04155128333803016\n0.027769930369135203\n0.0110803324099723\n0.023628194995434355\n0.007115125726713288\n0.0041704713748757375\n0.005722408514707384\n0.0568193153831323\n0.00832751436836734\n0.047108677804310474\n0.03209006677128393\n0.009756677742230194\n0.016651228857171352\n0.02354570637119114\n0.034626149183065544\n0.01678547586379157\n0.008340942749058096\n0.0027777564628877925\n0.04020457408848783\n0.04155128333803016\n0.025007520627036844\n0.023628194995434355\n0.007115125726019907\n0.004170471374529047\n0.005722408514360694\n0.04991904604783575\n0.00832751436836734\n0.03883295861756741\n0.027952133577860465\n0.009756677741883504\n0.01112637257234196\n0.02354570637119114\n0.034626038781167504\n0.012647616270593383\n0.004203083156206598\n0.0027777564628877925\n0.04020457408814114\n0.025007483826404164\n0.023628194995434355\n0.007115125726019907\n0.004170471374529047\n0.005722408514360694\n0.04991904604783575\n0.00832751436836734\n0.03883295861756741\n0.027952133577860465\n0.009756677741883504\n0.01112637257234196\n0.027725769446217647\n0.012647616270593383\n0.004203083156206598\n0.0027777564628877925\n0.04020457408814114\n0.02086962423355267\n0.023628194995434355\n0.00709786096321412\n0.004170471374529047\n0.005722408514360694\n0.04991904604783575\n0.03469509902471591\n0.027952133577860465\n0.009756677741883504\n0.01112637257234196\n0.027725769446217647\n0.012647616270593383\n0.004203083156206598\n0.0027777564628877925\n0.03606671449528964\n0.02086962423355267\n0.023628194995434355\n0.007067166163704651\n0.004170471374529047\n0.005722408514360694\n0.047156636305737396\n0.034677834261910116\n0.027952133577860465\n0.009756677741883504\n0.01112637257234196\n0.027725769446217647\n0.012647616270593383\n0.004203083156206598\n0.0027777564628877925\n0.020838929434043203\n0.007067166163704651\n0.004170471374529047\n0.005687878988749119\n0.047156636305737396\n0.03466056949910433\n0.027921441078368952\n0.009756677741883504\n0.01112637257234196\n0.027725769446217647\n0.007122796786396666\n0.004172390656715083\n0.0027777564628877925\n0.020838929434043203\n0.0070499014008988635\n0.004170471374529047\n0.005687878988749119\n0.03188089499420018\n0.025159031336270597\n0.009756677741883504\n0.01112637257234196\n0.027725769446217647\n0.007122796786396666\n0.004172390656715083\n0.0027777564628877925\n0.020838929434043203\n0.0070499014008988635\n0.004170471374529047\n0.005687878988749119\n0.02514176657346481\n0.009756677741883504\n0.01112637257234196\n0.027725769446217647\n0.007122796786396666\n0.004172390656715083\n0.0027777564628877925\n0.020838929434043203\n0.0070499014008988635\n0.004170471374529047\n0.005687878988749119\n0.0251417665734621\n0.009756677741883504\n0.008363962830242247\n0.007122796786396666\n0.004172390656715083\n0.0027777564628877925\n0.02082166467123606\n0.0070499014008988635\n0.004170471374529047\n0.005657186489257605\n0.0251417665734621\n0.008333270330750733\n0.007092104286905152\n0.004172390656715083\n0.0027777564628877925\n0.020790972171744547\n[(0, 'Desde que accedió al trono, Felipe VI se ha manejado principalmente en escenarios excepcionales: bloqueo político, líderes que rechazan ser candidatos, repeticiones electorales, gobiernos en funciones, un presidente que eclipsa al Monarca.'), (4, ' Si durante meses fueron los secesionistas catalanes los que lo pusieron en la diana, aprobando incluso una resolución en el Parlament que lo reprobaba y pedía la abolición de la Monarquía, este domingo mismo, en la primera sesión de investidura, EH Bildu, formación que presume de que su abstención es determinante para que el PSOE gobierne, consideró el discurso del Rey del 3 de octubre de 2017 -dos días después del referéndum ilegal celebrado en Cataluña- como una de las \"expresiones más evidentes\" de lo que califican de \"respuestas autoritarias de España\".'), (5, ' La figura del jefe del Estado protagonizó la polémica parlamentaria.'), (6, ' Tras esta acusación de liderar la \"respuesta autoritaria\" y de señalarlo como impulsor de la conformación de un \"bloque político y mediático capaz de profundizar en una contrarreforma autoritaria\" en España, el PP y Ciudadanos protestaron por considerar que eran \"descalificaciones\" o que incluso se ha llamado \"fascista\" al jefe del Estado, según la formación naranja.'), (7, ' Pedro Sánchez, en su réplica, a Bildu eludió defender la figura del Monarca.'), (8, ' Hace sólo unos días, el Gobierno también evitó respaldar el mensaje de Navidad de Felipe VI en el que recordó que el \"entendimiento\" político es imprescindible, pero siempre \"dentro del respeto a la Constitución\".'), (9, ' Unas palabras pronunciadas en medio de la entonces opaca negociación entre el PSOE y ERC para la investidura.'), (10, ' Las relaciones entre Zarzuela y Moncloa son complejas y difíciles, sobre todo en la última etapa.'), (12, ' La celebración de la Pascua Militar constituye un solemne acto castrense con el que se inicia el año militar.'), (13, ' En dicho acto se realiza un balance de las vicisitudes del año anterior y se marcan las líneas de acción que se desarrollarán en el siguiente.'), (15, ' Su origen se remonta al reinado de Carlos III, cuando, el 6 de enero de 1782, se recuperó la localidad menorquina de Mahón, que se hallaba en poder de los ingleses.'), (16, ' Como expresión de júbilo, Carlos III ordenó a los virreyes, capitanes generales, gobernadores y comandantes militares que, en la fiesta de la Epifanía, reuniesen a las guarniciones y notificasen en su nombre a jefes y oficiales de los ejércitos su felicitación.'), (20, ' Ocurrió en 2006, cuando el teniente general del Ejército de Tierra y general jefe de la Fuerza Terrestre, José Mena Aguado, afirmó durante su discurso en Sevilla con motivo de la Pascua Militar que si algún Estatuto de autonomía sobrepasaba los límites de la Constitución, el Ejército -como garante de la Carta Magna- tendría que intervenir.'), (21, ' O cuando en 2018, ya con el desafío independentista de Cataluña en auge, la entonces ministra María Dolores de Cospedal, aunque sin hacer mención expresa a esta comunidad, sí reiteró el compromiso \"sin reservas de las Fuerzas Armadas con la unidad y el futuro de España\".'), (23, ' Una imagen que supuso uno de los puntos de inflexión en su decisión de abdicar.')]\nDesde que accedió al trono, Felipe VI se ha manejado principalmente en escenarios excepcionales: bloqueo político, líderes que rechazan ser candidatos, repeticiones electorales, gobiernos en funciones, un presidente que eclipsa al Monarca. Si durante meses fueron los secesionistas catalanes los que lo pusieron en la diana, aprobando incluso una resolución en el Parlament que lo reprobaba y pedía la abolición de la Monarquía, este domingo mismo, en la primera sesión de investidura, EH Bildu, formación que presume de que su abstención es determinante para que el PSOE gobierne, consideró el discurso del Rey del 3 de octubre de 2017 -dos días después del referéndum ilegal celebrado en Cataluña- como una de las \"expresiones más evidentes\" de lo que califican de \"respuestas autoritarias de España\". La figura del jefe del Estado protagonizó la polémica parlamentaria. Tras esta acusación de liderar la \"respuesta autoritaria\" y de señalarlo como impulsor de la conformación de un \"bloque político y mediático capaz de profundizar en una contrarreforma autoritaria\" en España, el PP y Ciudadanos protestaron por considerar que eran \"descalificaciones\" o que incluso se ha llamado \"fascista\" al jefe del Estado, según la formación naranja. Pedro Sánchez, en su réplica, a Bildu eludió defender la figura del Monarca. Hace sólo unos días, el Gobierno también evitó respaldar el mensaje de Navidad de Felipe VI en el que recordó que el \"entendimiento\" político es imprescindible, pero siempre \"dentro del respeto a la Constitución\". Unas palabras pronunciadas en medio de la entonces opaca negociación entre el PSOE y ERC para la investidura. Las relaciones entre Zarzuela y Moncloa son complejas y difíciles, sobre todo en la última etapa. La celebración de la Pascua Militar constituye un solemne acto castrense con el que se inicia el año militar. En dicho acto se realiza un balance de las vicisitudes del año anterior y se marcan las líneas de acción que se desarrollarán en el siguiente. Su origen se remonta al reinado de Carlos III, cuando, el 6 de enero de 1782, se recuperó la localidad menorquina de Mahón, que se hallaba en poder de los ingleses. Como expresión de júbilo, Carlos III ordenó a los virreyes, capitanes generales, gobernadores y comandantes militares que, en la fiesta de la Epifanía, reuniesen a las guarniciones y notificasen en su nombre a jefes y oficiales de los ejércitos su felicitación. Ocurrió en 2006, cuando el teniente general del Ejército de Tierra y general jefe de la Fuerza Terrestre, José Mena Aguado, afirmó durante su discurso en Sevilla con motivo de la Pascua Militar que si algún Estatuto de autonomía sobrepasaba los límites de la Constitución, el Ejército -como garante de la Carta Magna- tendría que intervenir. O cuando en 2018, ya con el desafío independentista de Cataluña en auge, la entonces ministra María Dolores de Cospedal, aunque sin hacer mención expresa a esta comunidad, sí reiteró el compromiso \"sin reservas de las Fuerzas Armadas con la unidad y el futuro de España\". Una imagen que supuso uno de los puntos de inflexión en su decisión de abdicar.\n"
    }
   ],
   "source": [
    "MAX_LENGTH = 250\n",
    "\n",
    "current_length = 0\n",
    "\n",
    "summary_sentences = []\n",
    "\n",
    "sentence_to_summary = next_sentence(sentence_without_stop_words)\n",
    "\n",
    "while sentence_to_summary is not None and words_amount(sentence_to_summary) + current_length <= MAX_LENGTH:\n",
    "    current_length += words_amount(sentence_to_summary)\n",
    "    update_words_weight(sentence_to_summary)\n",
    "    real_sentence = real_sentence_by_sentence[sentence_to_summary]\n",
    "    summary_sentences.append((real_sentences_with_id[real_sentence] ,real_sentence + '.'))\n",
    "    sentence_to_summary = next_sentence(sentence_without_stop_words)\n",
    "\n",
    "summary_sentences.sort()\n",
    "\n",
    "summary = ''\n",
    "\n",
    "for sentence in summary_sentences:\n",
    "    summary+=sentence[1]\n"
   ]
  },
  {
   "cell_type": "code",
   "execution_count": null,
   "metadata": {},
   "outputs": [],
   "source": []
  }
 ],
 "metadata": {
  "kernelspec": {
   "display_name": "Python 3",
   "language": "python",
   "name": "python3"
  },
  "language_info": {
   "codemirror_mode": {
    "name": "ipython",
    "version": 3
   },
   "file_extension": ".py",
   "mimetype": "text/x-python",
   "name": "python",
   "nbconvert_exporter": "python",
   "pygments_lexer": "ipython3",
   "version": "3.6.9"
  }
 },
 "nbformat": 4,
 "nbformat_minor": 4
}